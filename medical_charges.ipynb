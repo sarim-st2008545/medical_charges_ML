{
 "cells": [
  {
   "cell_type": "code",
   "execution_count": 2,
   "id": "81203097-6b64-4442-b679-c544fc3b1654",
   "metadata": {},
   "outputs": [
    {
     "name": "stdout",
     "output_type": "stream",
     "text": [
      "its sarim\n"
     ]
    }
   ],
   "source": [
    "print(\"its sarim\")"
   ]
  },
  {
   "cell_type": "code",
   "execution_count": 5,
   "id": "ade7991b-3245-44c8-82ef-79a52d453bf3",
   "metadata": {},
   "outputs": [
    {
     "name": "stderr",
     "output_type": "stream",
     "text": [
      "'git' is not recognized as an internal or external command,\n",
      "operable program or batch file.\n"
     ]
    }
   ],
   "source": [
    "!git commit -m \"test 2\"\n"
   ]
  },
  {
   "cell_type": "code",
   "execution_count": null,
   "id": "dc82e2a9-72d4-4d2f-8d0a-7f4c07c1482c",
   "metadata": {},
   "outputs": [],
   "source": [
    "!pip git push"
   ]
  },
  {
   "cell_type": "code",
   "execution_count": null,
   "id": "df39ee16-efee-43d3-8cc6-d8159f609499",
   "metadata": {},
   "outputs": [],
   "source": []
  }
 ],
 "metadata": {
  "kernelspec": {
   "display_name": "Python 3 (ipykernel)",
   "language": "python",
   "name": "python3"
  },
  "language_info": {
   "codemirror_mode": {
    "name": "ipython",
    "version": 3
   },
   "file_extension": ".py",
   "mimetype": "text/x-python",
   "name": "python",
   "nbconvert_exporter": "python",
   "pygments_lexer": "ipython3",
   "version": "3.12.5"
  }
 },
 "nbformat": 4,
 "nbformat_minor": 5
}
