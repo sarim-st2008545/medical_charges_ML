{
 "cells": [
  {
   "cell_type": "code",
   "execution_count": 1,
   "id": "81203097-6b64-4442-b679-c544fc3b1654",
   "metadata": {},
   "outputs": [
    {
     "name": "stdout",
     "output_type": "stream",
     "text": [
      "heeel\n"
     ]
    }
   ],
   "source": [
    "print(\"heeel\")"
   ]
  },
  {
   "cell_type": "code",
   "execution_count": null,
   "id": "ade7991b-3245-44c8-82ef-79a52d453bf3",
   "metadata": {},
   "outputs": [],
   "source": []
  }
 ],
 "metadata": {
  "kernelspec": {
   "display_name": "Python 3 (ipykernel)",
   "language": "python",
   "name": "python3"
  },
  "language_info": {
   "codemirror_mode": {
    "name": "ipython",
    "version": 3
   },
   "file_extension": ".py",
   "mimetype": "text/x-python",
   "name": "python",
   "nbconvert_exporter": "python",
   "pygments_lexer": "ipython3",
   "version": "3.12.5"
  }
 },
 "nbformat": 4,
 "nbformat_minor": 5
}
